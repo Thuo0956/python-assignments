{
  "nbformat": 4,
  "nbformat_minor": 0,
  "metadata": {
    "colab": {
      "provenance": [],
      "authorship_tag": "ABX9TyMkd+MzY678Z7IV3FirRhls",
      "include_colab_link": true
    },
    "kernelspec": {
      "name": "python3",
      "display_name": "Python 3"
    },
    "language_info": {
      "name": "python"
    }
  },
  "cells": [
    {
      "cell_type": "markdown",
      "metadata": {
        "id": "view-in-github",
        "colab_type": "text"
      },
      "source": [
        "<a href=\"https://colab.research.google.com/github/Thuo0956/python-assignments/blob/main/Untitled4.ipynb\" target=\"_parent\"><img src=\"https://colab.research.google.com/assets/colab-badge.svg\" alt=\"Open In Colab\"/></a>"
      ]
    },
    {
      "cell_type": "code",
      "execution_count": 1,
      "metadata": {
        "colab": {
          "base_uri": "https://localhost:8080/"
        },
        "id": "xqwx3UsMc7A7",
        "outputId": "e3720d89-0b99-4b56-d74d-c07dba939e33"
      },
      "outputs": [
        {
          "output_type": "stream",
          "name": "stdout",
          "text": [
            "Enter the original price of the item: 45\n",
            "Enter the discount percentage: 23\n",
            "Final price after applying the discount: $34.65\n"
          ]
        }
      ],
      "source": [
        "def calculate_discount(price, discount_percent):\n",
        "    if discount_percent >= 20:\n",
        "        discount_amount = price * (discount_percent / 100)\n",
        "        final_price = price - discount_amount\n",
        "        return final_price\n",
        "    else:\n",
        "        return price\n",
        "\n",
        "def main():\n",
        "    # Prompt user to enter original price and discount percentage\n",
        "    original_price = float(input(\"Enter the original price of the item: \"))\n",
        "    discount_percent = float(input(\"Enter the discount percentage: \"))\n",
        "\n",
        "    # Calculate final price using the calculate_discount function\n",
        "    final_price = calculate_discount(original_price, discount_percent)\n",
        "\n",
        "    # Print the final price after applying the discount, or the original price\n",
        "    if final_price != original_price:\n",
        "        print(\"Final price after applying the discount: ${:.2f}\".format(final_price))\n",
        "    else:\n",
        "        print(\"No discount applied. Original price: ${:.2f}\".format(original_price))\n",
        "\n",
        "# Call the main function to execute the program\n",
        "if __name__ == \"__main__\":\n",
        "    main()\n"
      ]
    }
  ]
}